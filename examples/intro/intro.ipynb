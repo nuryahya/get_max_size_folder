{
 "cells": [
  {
   "cell_type": "code",
   "execution_count": 1,
   "metadata": {
    "tags": []
   },
   "outputs": [
    {
     "name": "stdin",
     "output_type": "stream",
     "text": [
      "FolderPath : C://Users//NYK//Desktop//DESKTOP FOLDER\n"
     ]
    },
    {
     "name": "stdout",
     "output_type": "stream",
     "text": [
      "Calculating Size:  C://Users//NYK//Desktop//DESKTOP FOLDER\\Bing AI\n",
      "Path type : Directory/Folder\n",
      "Calculating Size:  C://Users//NYK//Desktop//DESKTOP FOLDER\\DESKTOP\n",
      "Path type : Directory/Folder\n",
      "Calculating Size:  C://Users//NYK//Desktop//DESKTOP FOLDER\\Fetums_REF\n",
      "Path type : Directory/Folder\n",
      "Calculating Size:  C://Users//NYK//Desktop//DESKTOP FOLDER\\keyviz\n",
      "Path type : Directory/Folder\n",
      "Calculating Size:  C://Users//NYK//Desktop//DESKTOP FOLDER\\logos\n",
      "Path type : Directory/Folder\n",
      "Calculating Size:  C://Users//NYK//Desktop//DESKTOP FOLDER\\QGIS 3.16\n",
      "Path type : Directory/Folder\n",
      "Calculating Size:  C://Users//NYK//Desktop//DESKTOP FOLDER\\QGIS_FILE\n",
      "Path type : Directory/Folder\n",
      "Calculating Size:  C://Users//NYK//Desktop//DESKTOP FOLDER\\Yebet Kiray Images\n",
      "Path type : Directory/Folder\n",
      "Calculating Size:  C://Users//NYK//Desktop//DESKTOP FOLDER\\YOU\n",
      "Path type : Directory/Folder\n"
     ]
    }
   ],
   "source": [
    "from get_max_size_folder import get_max_size_folder"
   ]
  },
  {
   "cell_type": "markdown",
   "metadata": {},
   "source": [
    "Find the output file **Maximum_Size_Folder.txt**  \n",
    "in C://Users//NYK//Desktop//DESKTOP FOLDER"
   ]
  },
  {
   "cell_type": "code",
   "execution_count": null,
   "metadata": {},
   "outputs": [],
   "source": []
  }
 ],
 "metadata": {
  "kernelspec": {
   "display_name": "Python 3 (ipykernel)",
   "language": "python",
   "name": "python3"
  },
  "language_info": {
   "codemirror_mode": {
    "name": "ipython",
    "version": 3
   },
   "file_extension": ".py",
   "mimetype": "text/x-python",
   "name": "python",
   "nbconvert_exporter": "python",
   "pygments_lexer": "ipython3",
   "version": "3.11.6"
  }
 },
 "nbformat": 4,
 "nbformat_minor": 4
}


